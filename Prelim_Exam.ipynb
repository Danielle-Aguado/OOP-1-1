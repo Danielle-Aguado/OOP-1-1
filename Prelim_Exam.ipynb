{
  "nbformat": 4,
  "nbformat_minor": 0,
  "metadata": {
    "colab": {
      "name": "Prelim Exam.ipynb",
      "provenance": [],
      "authorship_tag": "ABX9TyN11iq5Ligs2Qmt5G63gRvV",
      "include_colab_link": true
    },
    "kernelspec": {
      "name": "python3",
      "display_name": "Python 3"
    },
    "language_info": {
      "name": "python"
    }
  },
  "cells": [
    {
      "cell_type": "markdown",
      "metadata": {
        "id": "view-in-github",
        "colab_type": "text"
      },
      "source": [
        "<a href=\"https://colab.research.google.com/github/Danielle-Aguado/OOP-1-1/blob/main/Prelim_Exam.ipynb\" target=\"_parent\"><img src=\"https://colab.research.google.com/assets/colab-badge.svg\" alt=\"Open In Colab\"/></a>"
      ]
    },
    {
      "cell_type": "markdown",
      "source": [
        "Problem 2"
      ],
      "metadata": {
        "id": "Lvm3Q06I4xUI"
      }
    },
    {
      "cell_type": "code",
      "execution_count": 3,
      "metadata": {
        "colab": {
          "base_uri": "https://localhost:8080/"
        },
        "id": "yjclHQMs4lNF",
        "outputId": "3acf7a07-7868-4844-c8e3-85f8cd0d9093"
      },
      "outputs": [
        {
          "output_type": "stream",
          "name": "stdout",
          "text": [
            "Name:  Aguado, Danielle Ysabelle M.\n",
            "Student number:  202102333\n",
            "Age:  19 years old\n",
            "School:  Cavite State University\n",
            "Course:  BS Computer Engineering\n"
          ]
        }
      ],
      "source": [
        "class Student:\n",
        "  def __init__(self, Name, Student_No, Age, School, Course):\n",
        "    self.Name = Name\n",
        "    self.Student_No = Student_No\n",
        "    self.Age = Age\n",
        "    self.School = School\n",
        "    self.Course  = Course\n",
        "  \n",
        "  def info(self):\n",
        "    print(\"Name: \", self.Name)\n",
        "    print(\"Student number: \", self.Student_No)\n",
        "    print(\"Age: \", self.Age,\"years old\")\n",
        "    print(\"School: \", self.School)\n",
        "    print(\"Course: \", self.Course)\n",
        "\n",
        "Myself = Student(\"Aguado, Danielle Ysabelle M.\", 202102333, 19, \"Cavite State University\", \"BS Computer Engineering\")\n",
        "Myself.info()\n"
      ]
    }
  ]
}