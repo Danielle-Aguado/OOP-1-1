{
  "nbformat": 4,
  "nbformat_minor": 0,
  "metadata": {
    "colab": {
      "name": "OOP Concepts 2.ipynb",
      "provenance": [],
      "authorship_tag": "ABX9TyNR4qE2GD477AviTxSHIMf0",
      "include_colab_link": true
    },
    "kernelspec": {
      "name": "python3",
      "display_name": "Python 3"
    },
    "language_info": {
      "name": "python"
    }
  },
  "cells": [
    {
      "cell_type": "markdown",
      "metadata": {
        "id": "view-in-github",
        "colab_type": "text"
      },
      "source": [
        "<a href=\"https://colab.research.google.com/github/Danielle-Aguado/OOP-1-1/blob/main/OOP_Concepts_2.ipynb\" target=\"_parent\"><img src=\"https://colab.research.google.com/assets/colab-badge.svg\" alt=\"Open In Colab\"/></a>"
      ]
    },
    {
      "cell_type": "markdown",
      "source": [
        "Classes with Multiple Objects"
      ],
      "metadata": {
        "id": "OpCQem3TMV6g"
      }
    },
    {
      "cell_type": "code",
      "source": [
        "class Birds:\n",
        "  def __init__(self,birds_name):\n",
        "    self.birds_name = birds_name\n",
        "  def flying_birds(self):\n",
        "    print(f\"{self.birds_name} flies above the sky\")\n",
        "  def non_flying_birds(self):\n",
        "    print(f\"{self.birds_name} is the national bird of Australia\")\n",
        "\n",
        "vulture = Birds(\"Griffon Vulture\")\n",
        "crane = Birds(\"Common Crane\")\n",
        "emu = Birds(\"Emu\")\n",
        "\n",
        "vulture.flying_birds()\n",
        "crane.flying_birds()\n",
        "emu.non_flying_birds()\n"
      ],
      "metadata": {
        "colab": {
          "base_uri": "https://localhost:8080/"
        },
        "id": "QfC7kQQxMbR2",
        "outputId": "b58a00ab-17f7-463b-ed37-6bc2ec09785d"
      },
      "execution_count": null,
      "outputs": [
        {
          "output_type": "stream",
          "name": "stdout",
          "text": [
            "Griffon Vulture flies above the sky\n",
            "Common Crane flies above the sky\n",
            "Emu is the national bird of Australia\n"
          ]
        }
      ]
    },
    {
      "cell_type": "markdown",
      "source": [
        "Encapsulation (mangling with double underscore)"
      ],
      "metadata": {
        "id": "gy7JSoEHPSvd"
      }
    },
    {
      "cell_type": "code",
      "source": [
        "class foo:\n",
        "  def __init__(self,a,b):\n",
        "    self.__a = a\n",
        "    self.__b = b\n",
        "\n",
        "  def add(self):\n",
        "    return self.__a+self.__b\n",
        "\n",
        "object_foo = foo(3,4)\n",
        "object_foo.add()\n",
        "\n",
        "object_foo.__a=6\n",
        "object_foo.__b=7\n",
        "object_foo.add()"
      ],
      "metadata": {
        "colab": {
          "base_uri": "https://localhost:8080/"
        },
        "id": "OgH4C8jFPX_0",
        "outputId": "ae418d1b-05c8-47dc-bf6c-8b19800371d9"
      },
      "execution_count": null,
      "outputs": [
        {
          "output_type": "execute_result",
          "data": {
            "text/plain": [
              "7"
            ]
          },
          "metadata": {},
          "execution_count": 4
        }
      ]
    },
    {
      "cell_type": "code",
      "source": [
        "class Counter:\n",
        "    def __init__(self):\n",
        "        self.__current = 0\n",
        "    def increment(self):\n",
        "        self.__current += 1\n",
        "    def value(self):\n",
        "        return self.__current\n",
        "    def reset(self):\n",
        "        self.__current = 0\n",
        "\n",
        "number = Counter()\n",
        "number.__current = 1\n",
        "\n",
        "number.increment()\n",
        "number.increment()\n",
        "number.increment()\n",
        "\n",
        "\n",
        "print(number.value())\n"
      ],
      "metadata": {
        "colab": {
          "base_uri": "https://localhost:8080/"
        },
        "id": "Di0SZnwmRskY",
        "outputId": "54d80020-dd2e-4b8b-91db-b331b91b614f"
      },
      "execution_count": null,
      "outputs": [
        {
          "output_type": "stream",
          "name": "stdout",
          "text": [
            "3\n"
          ]
        }
      ]
    },
    {
      "cell_type": "markdown",
      "source": [
        "Inheritance"
      ],
      "metadata": {
        "id": "bDuColAFU8VQ"
      }
    },
    {
      "cell_type": "code",
      "source": [
        "class Person:\n",
        "  def __init__(self,firstname,surname):\n",
        "    self.firstname = firstname\n",
        "    self.surname = surname\n",
        "  \n",
        "  def fullname(self):\n",
        "    print(self.firstname, self.surname)\n",
        "\n",
        "person = Person(\"Danielle\",\"Aguado\")\n",
        "person.fullname()\n",
        "\n",
        "class Student(Person):\n",
        "  pass\n",
        "\n",
        "person2 = Student(\"Danielle Ysabelle\", \"Aguado\")\n",
        "person2.fullname()\n",
        "\n",
        "class Teacher(Person):\n",
        "  pass\n",
        "\n",
        "person3 = Teacher(\"Mam\", \"Sayo\")\n",
        "person3.fullname()"
      ],
      "metadata": {
        "colab": {
          "base_uri": "https://localhost:8080/"
        },
        "id": "Bekd1dO8U45D",
        "outputId": "37ff9a53-e8df-45e0-e170-530d0501201f"
      },
      "execution_count": null,
      "outputs": [
        {
          "output_type": "stream",
          "name": "stdout",
          "text": [
            "Danielle Aguado\n",
            "Danielle Ysabelle Aguado\n",
            "Mam Sayo\n"
          ]
        }
      ]
    },
    {
      "cell_type": "markdown",
      "source": [
        "Polymorphism"
      ],
      "metadata": {
        "id": "envc_T_TXfJU"
      }
    },
    {
      "cell_type": "code",
      "source": [
        "class RegularPolygon:\n",
        "  def __init__(self,side):\n",
        "    self.side = side\n",
        "class Square(RegularPolygon):\n",
        "  def area(self):\n",
        "    return self.side * self.side\n",
        "class EquilateralTriangle(RegularPolygon):\n",
        "  def area(self):\n",
        "    return self.side * self.side * 0.433\n",
        "\n",
        "obj1 = Square(4)\n",
        "print(obj1.area())\n",
        "\n",
        "obj2 = EquilateralTriangle(3)\n",
        "print(obj2.area())"
      ],
      "metadata": {
        "colab": {
          "base_uri": "https://localhost:8080/"
        },
        "id": "pL_eiq8LXh73",
        "outputId": "3409f0ee-ca1f-44cd-cb17-783ddd44edf3"
      },
      "execution_count": null,
      "outputs": [
        {
          "output_type": "stream",
          "name": "stdout",
          "text": [
            "16\n",
            "3.897\n"
          ]
        }
      ]
    },
    {
      "cell_type": "markdown",
      "source": [
        "Application 1"
      ],
      "metadata": {
        "id": "3sYttcOXY32u"
      }
    },
    {
      "cell_type": "markdown",
      "source": [
        "1. Create a Python program that displays the name of three students (Student 1, Student 2, and Student 3) and their term grades\n",
        "2. Create a class name Person and attributes - std1, std2, std2, pre, mid, fin\n",
        "3. Compute the average of each term grade using Grade() method\n",
        "4. Information about student's grades must be hidden from others"
      ],
      "metadata": {
        "id": "AprV4XHJZLnb"
      }
    },
    {
      "cell_type": "code",
      "source": [
        "class Person:\n",
        "  def __init__(self, std1, pre,mid, fin):\n",
        "    self.__std1 = std1\n",
        "    self.__pre = pre\n",
        "    self.__mid = mid\n",
        "    self.__fin = fin\n",
        "  \n",
        "  def student_name(self):\n",
        "    print(\"Name: \", f\"{self.__std1}\")\n",
        "\n",
        "  def Grades(self):\n",
        "    print(\"Prelim: \", self.__pre*0.3+self.__pre*0.7)\n",
        "    print(\"Midterm: \", self.__mid*0.3 + self.__mid*0.7)\n",
        "    print(\"Finals: \", self.__fin*0.3 + self.__fin * 0.7)\n",
        "  \n",
        "  def total_ave(self):\n",
        "    prelim =  self.__pre*0.3+self.__pre*0.7 \n",
        "    midterm = self.__mid*0.3+self.__mid*0.7\n",
        "    finals = self.__fin*0.3+self.__fin*0.7 \n",
        "    ave = (prelim * 0.2) + (midterm * 0.3) + (finals * 0.5)\n",
        "    print(\"Total Average: \", str(ave))\n",
        "\n",
        "person1 = Person(\"Student 1\", 80, 85, 95 )    #For Prelim: The score for activities is 80 * 30% + The score for Exams is 80 * 50%\n",
        "                                              #For Midterm: The score for activities is 85 * 30% + The score for Exams is 85 * 50%\n",
        "                                              #For Finals: The score for activities is 95 * 30% + The score for Exams is 95 * 50%\n",
        "person1.student_name()\n",
        "person1.Grades()\n",
        "person1.total_ave()\n",
        "print()\n",
        "\n",
        "class std2(Person):\n",
        "  pass\n",
        "\n",
        "person2 = Person(\"Student 2\", 75, 80, 90)\n",
        "person2.student_name()\n",
        "person2.Grades()\n",
        "person2.total_ave()\n",
        "print()\n",
        "\n",
        "class std3(Person):\n",
        "  pass\n",
        "\n",
        "person3 = Person(\"Student 3\", 85, 90, 95)\n",
        "person3.student_name()\n",
        "person3.Grades()\n",
        "person3.total_ave()\n",
        "print()\n",
        "\n",
        "\n"
      ],
      "metadata": {
        "colab": {
          "base_uri": "https://localhost:8080/"
        },
        "id": "Po30mD_FNlaA",
        "outputId": "c36a05c4-6d0c-4644-84cb-eaf89a04d736"
      },
      "execution_count": null,
      "outputs": [
        {
          "output_type": "stream",
          "name": "stdout",
          "text": [
            "Name:  Student 1\n",
            "Prelim:  80.0\n",
            "Midterm:  85.0\n",
            "Finals:  95.0\n",
            "Total Average:  89.0\n",
            "\n",
            "Name:  Student 2\n",
            "Prelim:  75.0\n",
            "Midterm:  80.0\n",
            "Finals:  90.0\n",
            "Total Average:  84.0\n",
            "\n",
            "Name:  Student 3\n",
            "Prelim:  85.0\n",
            "Midterm:  90.0\n",
            "Finals:  95.0\n",
            "Total Average:  91.5\n",
            "\n"
          ]
        }
      ]
    }
  ]
}