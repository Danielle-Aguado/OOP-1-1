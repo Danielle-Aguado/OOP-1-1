{
  "nbformat": 4,
  "nbformat_minor": 0,
  "metadata": {
    "colab": {
      "name": "GUI.ipynb",
      "provenance": [],
      "authorship_tag": "ABX9TyNcCDMrDjyMncKZyf+KCfvn",
      "include_colab_link": true
    },
    "kernelspec": {
      "name": "python3",
      "display_name": "Python 3"
    },
    "language_info": {
      "name": "python"
    }
  },
  "cells": [
    {
      "cell_type": "markdown",
      "metadata": {
        "id": "view-in-github",
        "colab_type": "text"
      },
      "source": [
        "<a href=\"https://colab.research.google.com/github/Danielle-Aguado/OOP-1-1/blob/main/GUI.ipynb\" target=\"_parent\"><img src=\"https://colab.research.google.com/assets/colab-badge.svg\" alt=\"Open In Colab\"/></a>"
      ]
    },
    {
      "cell_type": "markdown",
      "source": [
        "Students' Grade in OOP subject"
      ],
      "metadata": {
        "id": "zJ7hg1nLR32l"
      }
    },
    {
      "cell_type": "code",
      "execution_count": 17,
      "metadata": {
        "colab": {
          "base_uri": "https://localhost:8080/"
        },
        "id": "pPOrpsQOR1jl",
        "outputId": "d055fab1-07d8-45db-b132-e4f97c3c1f83"
      },
      "outputs": [
        {
          "output_type": "stream",
          "name": "stdout",
          "text": [
            "My prelim grade is 90\n",
            "My midterm grade is 85\n",
            "My final grade is 100\n",
            "My semestral grade is 91.67\n",
            "My birthdate is 2002-12-04\n"
          ]
        }
      ],
      "source": [
        "#@title Students' Grade in OOP\n",
        "Student_Name = \"Danielle Aguado\" #@param {type:\"string\"}\n",
        "prelim_grade =  90#@param {type:\"integer\"}\n",
        "midterm =  85#@param {type:\"integer\"}\n",
        "final = 100 #@param {type:\"integer\"}\n",
        "semestral_grade = round((prelim_grade + midterm + final)/3,2)\n",
        "\n",
        "print(\"My prelim grade is \" + str(prelim_grade))\n",
        "print(\"My midterm grade is \" + str(midterm))\n",
        "print(\"My final grade is \" + str(final))\n",
        "print(\"My semestral grade is \" + str(semestral_grade))\n",
        "\n",
        "\n",
        "Gender = \"Female\" #@param[\"Male\",\"Female\"]\n",
        "BirthDate = \"2002-12-04\" #@param {type:\"date\"}\n",
        "\n",
        "print(\"My birthdate is \" + BirthDate)"
      ]
    },
    {
      "cell_type": "markdown",
      "source": [
        "Tkinter module - pycharm"
      ],
      "metadata": {
        "id": "U8iVewDfYnLZ"
      }
    }
  ]
}