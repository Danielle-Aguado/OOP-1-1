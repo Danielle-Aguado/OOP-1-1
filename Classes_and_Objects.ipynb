{
  "nbformat": 4,
  "nbformat_minor": 0,
  "metadata": {
    "colab": {
      "name": "Classes and Objects.ipynb",
      "provenance": [],
      "authorship_tag": "ABX9TyPWbyDipptU6CqwJ0yM/kXp",
      "include_colab_link": true
    },
    "kernelspec": {
      "name": "python3",
      "display_name": "Python 3"
    },
    "language_info": {
      "name": "python"
    }
  },
  "cells": [
    {
      "cell_type": "markdown",
      "metadata": {
        "id": "view-in-github",
        "colab_type": "text"
      },
      "source": [
        "<a href=\"https://colab.research.google.com/github/Danielle-Aguado/OOP-1-1/blob/main/Classes_and_Objects.ipynb\" target=\"_parent\"><img src=\"https://colab.research.google.com/assets/colab-badge.svg\" alt=\"Open In Colab\"/></a>"
      ]
    },
    {
      "cell_type": "markdown",
      "source": [
        "Application 2 - Write a python program that displays the fullname of a student, student number, age, course, and school. Create a class name OOP_1_1 and create info() method to display the information of a student with fullname, student_no,age, course, school as attributes"
      ],
      "metadata": {
        "id": "Cgrg4L3E1mJo"
      }
    },
    {
      "cell_type": "code",
      "execution_count": null,
      "metadata": {
        "colab": {
          "base_uri": "https://localhost:8080/"
        },
        "id": "3Mw-qzcT1iGl",
        "outputId": "aaa8aafc-0f84-449b-de9e-c95ceb6f5a18"
      },
      "outputs": [
        {
          "output_type": "stream",
          "name": "stdout",
          "text": [
            "Danielle Ysabelle M. Aguado 202102333 19 Computer Engineering CvSU\n"
          ]
        }
      ],
      "source": [
        "class OOP_1_1:\n",
        "  def __init__ (self,fullname,student_no,age,course,school):\n",
        "    self.fullname = fullname\n",
        "    self.student_no = student_no\n",
        "    self.age = age\n",
        "    self.course = course\n",
        "    self.school = school\n",
        "\n",
        "  def info(self):\n",
        "    print(self.fullname,self.student_no,self.age,self.course,self.school)\n",
        "\n",
        "student = OOP_1_1(\"Danielle Ysabelle M. Aguado\",202102333, 19, \"Computer Engineering\", \"CvSU\")\n",
        "student.info()"
      ]
    },
    {
      "cell_type": "code",
      "source": [
        "class OOP_1_1:\n",
        "  def __init__ (self,fullname,student_no,age,course,school):\n",
        "    self.fullname = fullname\n",
        "    self.student_no = student_no\n",
        "    self.age = age\n",
        "    self.course = course\n",
        "    self.school = school\n",
        "\n",
        "  def info(self):\n",
        "    #print(self.fullname,self.student_no,self.age,self.course,self.school)\n",
        "    print(\"My name is\", self.fullname)\n",
        "    print(\"My Student Number is\", self.student_no)\n",
        "    print(\"My Age is\", self.age)\n",
        "    print(\"My Course is\", self.course)\n",
        "    print(\"My School is\", self.school)\n",
        "    \n",
        "student = OOP_1_1(\"Danielle Ysabelle M. Aguado\",202102333, 19, \"Computer Engineering\", \"CvSU\")\n",
        "student.info()"
      ],
      "metadata": {
        "colab": {
          "base_uri": "https://localhost:8080/"
        },
        "id": "5767D9KY4wH6",
        "outputId": "350d7e2f-ba24-4ad7-bc70-61d8e3c598fc"
      },
      "execution_count": null,
      "outputs": [
        {
          "output_type": "stream",
          "name": "stdout",
          "text": [
            "My name is Danielle Ysabelle M. Aguado\n",
            "My Student Number is 202102333\n",
            "My Age is 19\n",
            "My Course is Computer Engineering\n",
            "My School is CvSU\n"
          ]
        }
      ]
    },
    {
      "cell_type": "markdown",
      "source": [
        "Application 3 - Define an Area() method of the class that calculates the circle's area. Define a Perimeter() method of the class which allows you to calculate the perimeter of the circle"
      ],
      "metadata": {
        "id": "LcKWJWvi6pM0"
      }
    },
    {
      "cell_type": "code",
      "source": [
        "class Circle:\n",
        "  def __init__(self, PI, r):\n",
        "    self.PI = PI\n",
        "    self.r = r\n",
        "  \n",
        "  def Area(self):\n",
        "    print(\"The area of the circle is\", self.PI * self.r**2)\n",
        "  def Perimeter(self):\n",
        "    print(\"The perimeter of the circle is\", self.PI * self.r * 2)\n",
        "\n",
        "c = Circle(3.14, 10)\n",
        "c.Area()\n",
        "c.Perimeter()\n",
        "\n",
        "  \n"
      ],
      "metadata": {
        "id": "KtG5GVne7jqZ",
        "outputId": "a1d0fefc-037b-45c4-f22e-3b55bc261ad3",
        "colab": {
          "base_uri": "https://localhost:8080/"
        }
      },
      "execution_count": 81,
      "outputs": [
        {
          "output_type": "stream",
          "name": "stdout",
          "text": [
            "The area of the circle is 314.0\n",
            "The perimeter of the circle is 62.800000000000004\n"
          ]
        }
      ]
    }
  ]
}